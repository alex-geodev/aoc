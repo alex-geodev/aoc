{
 "cells": [
  {
   "cell_type": "code",
   "execution_count": 1,
   "metadata": {},
   "outputs": [],
   "source": [
    "import sys\n",
    "sys.path.append(r'../utils')\n",
    "import reader\n",
    "import re"
   ]
  },
  {
   "cell_type": "code",
   "execution_count": 2,
   "metadata": {},
   "outputs": [],
   "source": [
    "data = reader.read_input('./input.txt')"
   ]
  },
  {
   "cell_type": "markdown",
   "metadata": {},
   "source": [
    "# Part 1"
   ]
  },
  {
   "cell_type": "code",
   "execution_count": 34,
   "metadata": {},
   "outputs": [],
   "source": [
    "entries = re.findall(\"mul\\(\\d+,\\d+\\)\", data)"
   ]
  },
  {
   "cell_type": "code",
   "execution_count": 4,
   "metadata": {},
   "outputs": [],
   "source": [
    "def calc_total(muls:list):\n",
    "    total = 0\n",
    "    for entry in muls:\n",
    "        first_digit = int(re.findall(\"\\d+,\",entry)[0].split(',')[0])\n",
    "        second_digit = int(re.findall(\",\\d+\",entry)[0].split(',')[1])\n",
    "        total+=first_digit*second_digit\n",
    "    return total"
   ]
  },
  {
   "cell_type": "code",
   "execution_count": 35,
   "metadata": {},
   "outputs": [],
   "source": [
    "total = calc_total(entries)"
   ]
  },
  {
   "cell_type": "code",
   "execution_count": 36,
   "metadata": {},
   "outputs": [
    {
     "data": {
      "text/plain": [
       "162813399"
      ]
     },
     "execution_count": 36,
     "metadata": {},
     "output_type": "execute_result"
    }
   ],
   "source": [
    "total"
   ]
  },
  {
   "cell_type": "markdown",
   "metadata": {},
   "source": [
    "# Part 2"
   ]
  },
  {
   "cell_type": "code",
   "execution_count": 5,
   "metadata": {},
   "outputs": [],
   "source": [
    "do_indices = [match.start() for match in re.finditer(\"do\\(\\)\", data, re.IGNORECASE)]\n",
    "dont_indices = [match.start() for match in re.finditer(\"don't\\(\\)\", data, re.IGNORECASE)]"
   ]
  },
  {
   "cell_type": "code",
   "execution_count": 28,
   "metadata": {},
   "outputs": [],
   "source": [
    "#build subsets\n",
    "multiplier_on = []\n",
    "next_do = 0\n",
    "\n",
    "for idx,entry in enumerate(dont_indices):\n",
    "    if next_do < entry:\n",
    "        multiplier_on.append([next_do,entry])\n",
    "        try:\n",
    "            next_do = [x for x in do_indices if x>entry][0]\n",
    "        except:\n",
    "            pass\n",
    "    #subset data between doand next dont\n",
    "    #entries = re.findall(\"mul\\(\\d+,\\d+\\)\", data[dont_indices[0]:do_indices[]])"
   ]
  },
  {
   "cell_type": "code",
   "execution_count": 44,
   "metadata": {},
   "outputs": [],
   "source": [
    "total=0\n",
    "for item in multiplier_on[0:-1]:\n",
    "    subset = data[item[0]:item[1]+7]\n",
    "    entries = re.findall(\"mul\\(\\d+,\\d+\\)\", subset)\n",
    "    total+=calc_total(entries)\n",
    "    "
   ]
  },
  {
   "cell_type": "code",
   "execution_count": 43,
   "metadata": {},
   "outputs": [
    {
     "data": {
      "text/plain": [
       "53783319"
      ]
     },
     "execution_count": 43,
     "metadata": {},
     "output_type": "execute_result"
    }
   ],
   "source": [
    "total"
   ]
  }
 ],
 "metadata": {
  "kernelspec": {
   "display_name": ".venv",
   "language": "python",
   "name": "python3"
  },
  "language_info": {
   "codemirror_mode": {
    "name": "ipython",
    "version": 3
   },
   "file_extension": ".py",
   "mimetype": "text/x-python",
   "name": "python",
   "nbconvert_exporter": "python",
   "pygments_lexer": "ipython3",
   "version": "3.11.5"
  }
 },
 "nbformat": 4,
 "nbformat_minor": 2
}
