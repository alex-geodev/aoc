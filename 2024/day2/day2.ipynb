{
 "cells": [
  {
   "cell_type": "code",
   "execution_count": 1,
   "metadata": {},
   "outputs": [],
   "source": [
    "import sys\n",
    "sys.path.append(r'../utils')\n",
    "import reader\n",
    "import numpy as np"
   ]
  },
  {
   "cell_type": "code",
   "execution_count": 150,
   "metadata": {},
   "outputs": [],
   "source": [
    "data = reader.read_input('./input.txt')"
   ]
  },
  {
   "cell_type": "code",
   "execution_count": 151,
   "metadata": {},
   "outputs": [],
   "source": [
    "levels = data.split('\\n')"
   ]
  },
  {
   "cell_type": "markdown",
   "metadata": {},
   "source": [
    "# Part 1"
   ]
  },
  {
   "cell_type": "code",
   "execution_count": 38,
   "metadata": {},
   "outputs": [
    {
     "name": "stdout",
     "output_type": "stream",
     "text": [
      "479\n"
     ]
    }
   ],
   "source": [
    "total = 0\n",
    "for item in levels:\n",
    "    level = np.array([int(report) for report in item.split(' ')])\n",
    "    diff_cond = False\n",
    "    #check for all positive or all negative\n",
    "    pos_cond = True if np.all(np.diff(level)>0) else False\n",
    "    neg_cond = True if np.all(np.diff(level)<0) else False\n",
    "    if pos_cond:\n",
    "        #check for diff between 1 and 3:\n",
    "        diff_cond = True if (np.all(np.diff(level)>=1) and np.all(np.diff(level)<=3)) else False\n",
    "    elif neg_cond:\n",
    "        diff_cond = True if (np.all(np.diff(level)<=-1) and np.all(np.diff(level)>=-3)) else False\n",
    "    \n",
    "    if diff_cond:\n",
    "        total+=1\n",
    "print(total)"
   ]
  },
  {
   "cell_type": "markdown",
   "metadata": {},
   "source": [
    "# Part 2"
   ]
  },
  {
   "cell_type": "code",
   "execution_count": null,
   "metadata": {},
   "outputs": [
    {
     "name": "stdout",
     "output_type": "stream",
     "text": [
      "[82 85 86 83 85 87 89]\n",
      "[ 3  1 -3  2  2  2]\n",
      "True False\n",
      "True\n",
      "1\n"
     ]
    }
   ],
   "source": [
    "reports = [np.array([int(report) for report in line.split(' ')]) for line in levels if line]\n",
    "def is_valid_report(line, remove_report = False):\n",
    "    diff_cond = False\n",
    "    diff = np.diff(line)\n",
    "    #check for all positive or all negative\n",
    "    pos_cond = True if np.all(diff>0) else False\n",
    "    neg_cond = True if np.all(diff<0) else False\n",
    "\n",
    "    if remove_report:\n",
    "      num_pos_false = len(line) - 1 - np.count_nonzero(diff>0)\n",
    "      pos_cond = True if (np.all(diff>0) or num_pos_false <=1) else False\n",
    "\n",
    "      num_neg_false = len(line) - 1 - np.count_nonzero(diff<0)\n",
    "      neg_cond = True if (np.all(diff<0) or num_neg_false <=1) else False\n",
    "    if pos_cond:\n",
    "        #check for diff between 1 and 3:\n",
    "        diff_cond = True if (np.all(diff>=1) and np.all(diff<=3)) else False\n",
    "    elif neg_cond:\n",
    "        diff_cond = True if (np.all(diff<=-1) and np.all(diff>=-3)) else False\n",
    "   \n",
    "    return diff_cond\n",
    "\n",
    "total=0\n",
    "for level in reports:\n",
    "  if not is_valid_report(level):\n",
    "    #break down list\n",
    "    for idx in range(np.size(level)):\n",
    "      updated_level = level.copy()\n",
    "      updated_level = np.delete(level, idx)\n",
    "      if is_valid_report(updated_level, remove_report=True):\n",
    "        total+=1\n",
    "        break\n",
    "  else:\n",
    "    total+=1 "
   ]
  },
  {
   "cell_type": "code",
   "execution_count": 155,
   "metadata": {},
   "outputs": [
    {
     "data": {
      "text/plain": [
       "2"
      ]
     },
     "execution_count": 155,
     "metadata": {},
     "output_type": "execute_result"
    }
   ],
   "source": [
    "np.size(outlier)"
   ]
  },
  {
   "cell_type": "code",
   "execution_count": 101,
   "metadata": {},
   "outputs": [
    {
     "data": {
      "text/plain": [
       "4"
      ]
     },
     "execution_count": 101,
     "metadata": {},
     "output_type": "execute_result"
    }
   ],
   "source": [
    "len(diff)"
   ]
  }
 ],
 "metadata": {
  "kernelspec": {
   "display_name": ".venv",
   "language": "python",
   "name": "python3"
  },
  "language_info": {
   "codemirror_mode": {
    "name": "ipython",
    "version": 3
   },
   "file_extension": ".py",
   "mimetype": "text/x-python",
   "name": "python",
   "nbconvert_exporter": "python",
   "pygments_lexer": "ipython3",
   "version": "3.11.5"
  }
 },
 "nbformat": 4,
 "nbformat_minor": 2
}
