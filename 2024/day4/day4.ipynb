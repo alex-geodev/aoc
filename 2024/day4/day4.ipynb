{
 "cells": [
  {
   "cell_type": "code",
   "execution_count": 10,
   "metadata": {},
   "outputs": [],
   "source": [
    "import sys\n",
    "sys.path.append(r'../utils')\n",
    "import reader\n",
    "import re\n",
    "import numpy as np"
   ]
  },
  {
   "cell_type": "code",
   "execution_count": 11,
   "metadata": {},
   "outputs": [],
   "source": [
    "data = reader.read_input('./input.txt')\n",
    "lines = data.split('\\n')"
   ]
  },
  {
   "cell_type": "markdown",
   "metadata": {},
   "source": [
    "# Part 1"
   ]
  },
  {
   "cell_type": "code",
   "execution_count": 12,
   "metadata": {},
   "outputs": [],
   "source": [
    "word_search = []\n",
    "for line in lines:\n",
    "    new_line = [letter for letter in line]\n",
    "    word_search.append(new_line)"
   ]
  },
  {
   "cell_type": "code",
   "execution_count": 13,
   "metadata": {},
   "outputs": [],
   "source": [
    "def search_line(line,term):\n",
    "    return len(re.findall(term, line))"
   ]
  },
  {
   "cell_type": "code",
   "execution_count": 14,
   "metadata": {},
   "outputs": [],
   "source": [
    "#search left right\n",
    "def search(arr, term='XMAS'):\n",
    "    total=0\n",
    "    for i in range(arr.shape[0]):\n",
    "        t_line = ''.join(line for line in arr[i,:])\n",
    "        total+=search_line(t_line,term)\n",
    "    return total\n",
    "\n",
    "# Search diagonals\n",
    "def diagonal_search(arr, term='XMAS'):\n",
    "    total = 0\n",
    "    for i in range(-1*arr.shape[0]+1,arr.shape[0]):\n",
    "        diag = arr.diagonal(i)\n",
    "        d_line=''.join(line for line in diag)\n",
    "        total+=search_line(d_line,term)\n",
    "    return total"
   ]
  },
  {
   "cell_type": "code",
   "execution_count": 15,
   "metadata": {},
   "outputs": [],
   "source": [
    "#Transpose/Flip data to search up and down right/left\n",
    "xmas_arr = np.array(word_search)\n",
    "xmas_arr_fliplr = np.fliplr(xmas_arr)\n",
    "transpose_arr = xmas_arr.T\n",
    "transpose_fliplr = np.fliplr(transpose_arr)"
   ]
  },
  {
   "cell_type": "code",
   "execution_count": 16,
   "metadata": {},
   "outputs": [
    {
     "data": {
      "text/plain": [
       "2551"
      ]
     },
     "execution_count": 16,
     "metadata": {},
     "output_type": "execute_result"
    }
   ],
   "source": [
    "found = 0\n",
    "found+= search(xmas_arr)\n",
    "found+= search(xmas_arr, term='SAMX')\n",
    "found+= search(transpose_arr)\n",
    "found+= search(transpose_arr, term='SAMX')\n",
    "found+= diagonal_search(xmas_arr)\n",
    "found+= diagonal_search(xmas_arr,term='SAMX')\n",
    "found+= diagonal_search(np.fliplr(transpose_arr))\n",
    "found+= diagonal_search(np.fliplr(transpose_arr), term='SAMX')\n",
    "found"
   ]
  },
  {
   "cell_type": "markdown",
   "metadata": {},
   "source": [
    "# Part 2"
   ]
  },
  {
   "cell_type": "code",
   "execution_count": null,
   "metadata": {},
   "outputs": [],
   "source": [
    "sam = ['S','A','M']\n",
    "mas = ['M','A','S']"
   ]
  },
  {
   "cell_type": "code",
   "execution_count": null,
   "metadata": {},
   "outputs": [],
   "source": [
    "total=0\n",
    "for i in range(xmas_arr.shape[0]-2):\n",
    "  for j in range(xmas_arr.shape[1]-2):\n",
    "    window = xmas_arr[i:i+3,j:j+3]\n",
    "    diag = window.diagonal()\n",
    "    diag_t = np.fliplr(window.T).diagonal()\n",
    "    if (np.array_equal(diag, sam) and (np.array_equal(diag_t, sam) or (np.array_equal(diag_t, mas)))) or (np.array_equal(diag,mas) and (np.array_equal(diag_t,mas) or np.array_equal(diag_t,sam))):\n",
    "      total+=1\n",
    "total"
   ]
  }
 ],
 "metadata": {
  "kernelspec": {
   "display_name": ".venv",
   "language": "python",
   "name": "python3"
  },
  "language_info": {
   "codemirror_mode": {
    "name": "ipython",
    "version": 3
   },
   "file_extension": ".py",
   "mimetype": "text/x-python",
   "name": "python",
   "nbconvert_exporter": "python",
   "pygments_lexer": "ipython3",
   "version": "3.11.5"
  }
 },
 "nbformat": 4,
 "nbformat_minor": 2
}
