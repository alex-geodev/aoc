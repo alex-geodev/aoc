{
 "cells": [
  {
   "cell_type": "code",
   "execution_count": 4,
   "metadata": {},
   "outputs": [],
   "source": [
    "import sys\n",
    "sys.path.append(r'../utils')\n",
    "import reader\n",
    "import string"
   ]
  },
  {
   "cell_type": "code",
   "execution_count": 2,
   "metadata": {},
   "outputs": [],
   "source": [
    "data = reader.read_input('./input.txt').split('\\n')\n"
   ]
  },
  {
   "cell_type": "markdown",
   "metadata": {},
   "source": [
    "# part 1 \n",
    "1. Find all locations of each distinct character\n",
    "2. calculate slopes between each item in each set\n",
    "    2a. calc new antinode based on slope from both items and if in bounds, add to total"
   ]
  },
  {
   "cell_type": "code",
   "execution_count": 9,
   "metadata": {},
   "outputs": [],
   "source": [
    "alphanumeric_chars = list(string.ascii_letters + string.digits)\n",
    "alphanumeric_chars.extend([x.upper() for x in string.ascii_letters])"
   ]
  },
  {
   "cell_type": "code",
   "execution_count": 21,
   "metadata": {},
   "outputs": [],
   "source": [
    "s = 'bddsf'\n",
    "\n",
    "if s.find('t')>0:\n",
    "    print('y')"
   ]
  },
  {
   "cell_type": "code",
   "execution_count": 23,
   "metadata": {},
   "outputs": [],
   "source": [
    "antenna_dict = {}\n",
    "for character in alphanumeric_chars:\n",
    "    antenna_dict[character] = []\n",
    "    for idx,item in enumerate(data):\n",
    "        if item.find(character)>0:\n",
    "            antenna_dict[character].append((item.index(character),idx))"
   ]
  },
  {
   "cell_type": "code",
   "execution_count": 25,
   "metadata": {},
   "outputs": [],
   "source": [
    "import math"
   ]
  },
  {
   "cell_type": "code",
   "execution_count": 32,
   "metadata": {},
   "outputs": [],
   "source": [
    "def get_slopes(coords):\n",
    "    for i, coord in enumerate(coords):\n",
    "       if i<len(coords):\n",
    "        for j,oth_coord in enumerate(coords[i+1:]):\n",
    "           print(coord,oth_coord)\n",
    "           slope = (coord[0]-oth_coord[0],coord[1]-oth_coord[1])\n",
    "           print(slope)"
   ]
  },
  {
   "cell_type": "code",
   "execution_count": 33,
   "metadata": {},
   "outputs": [
    {
     "name": "stdout",
     "output_type": "stream",
     "text": [
      "(48, 33) (35, 35)\n",
      "(13, -2)\n",
      "(48, 33) (37, 42)\n",
      "(11, -9)\n",
      "(48, 33) (40, 44)\n",
      "(8, -11)\n",
      "(35, 35) (37, 42)\n",
      "(-2, -7)\n",
      "(35, 35) (40, 44)\n",
      "(-5, -9)\n",
      "(37, 42) (40, 44)\n",
      "(-3, -2)\n"
     ]
    }
   ],
   "source": [
    "get_slopes(antenna_dict['b'])"
   ]
  }
 ],
 "metadata": {
  "kernelspec": {
   "display_name": ".venv",
   "language": "python",
   "name": "python3"
  },
  "language_info": {
   "codemirror_mode": {
    "name": "ipython",
    "version": 3
   },
   "file_extension": ".py",
   "mimetype": "text/x-python",
   "name": "python",
   "nbconvert_exporter": "python",
   "pygments_lexer": "ipython3",
   "version": "3.11.5"
  }
 },
 "nbformat": 4,
 "nbformat_minor": 2
}
