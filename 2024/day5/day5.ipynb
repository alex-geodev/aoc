{
 "cells": [
  {
   "cell_type": "code",
   "execution_count": null,
   "metadata": {},
   "outputs": [],
   "source": [
    "import sys\n",
    "sys.path.append(r'../utils')\n",
    "import reader\n",
    "import numpy as np\n",
    "import math\n",
    "\n"
   ]
  },
  {
   "cell_type": "code",
   "execution_count": 2,
   "metadata": {},
   "outputs": [],
   "source": [
    "rules = reader.read_input('./rules.txt')\n",
    "pages = reader.read_input('./pages.txt')"
   ]
  },
  {
   "cell_type": "code",
   "execution_count": null,
   "metadata": {},
   "outputs": [],
   "source": [
    "page_list = pages.split('\\n')\n"
   ]
  },
  {
   "cell_type": "code",
   "execution_count": 12,
   "metadata": {},
   "outputs": [],
   "source": [
    "rule_list = rules.split('\\n')\n",
    "rule_list = [(int(rule.split('|')[0]),int(rule.split('|')[1])) for rule in rule_list]\n"
   ]
  },
  {
   "cell_type": "code",
   "execution_count": 128,
   "metadata": {},
   "outputs": [
    {
     "data": {
      "text/plain": [
       "7074"
      ]
     },
     "execution_count": 128,
     "metadata": {},
     "output_type": "execute_result"
    }
   ],
   "source": [
    "#Check Page\n",
    "page = [int(item) for item in page_list[0].split(',')]\n",
    "bad_page = False\n",
    "good_page=[]\n",
    "bad_pages = []\n",
    "for page in page_list:\n",
    "    page = [int(item) for item in page.split(',')]\n",
    "    for idx,first_item in enumerate(page):\n",
    "        matches = [rule for rule in rule_list if rule[0]==first_item]\n",
    "        for second_item in page[idx+1:]:\n",
    "            second_match = [match for match in matches if match[1]==second_item]\n",
    "            if not second_match:\n",
    "                bad_page = True\n",
    "                break\n",
    "        \n",
    "        if bad_page:\n",
    "            break\n",
    "    if not bad_page:\n",
    "        good_page.append(page[math.floor(len(page)/2)])\n",
    "    else:\n",
    "        bad_pages.append(page)\n",
    "        bad_page = False\n",
    "sum(good_page)"
   ]
  },
  {
   "cell_type": "markdown",
   "metadata": {},
   "source": [
    "# Part 2"
   ]
  },
  {
   "cell_type": "code",
   "execution_count": 129,
   "metadata": {},
   "outputs": [
    {
     "data": {
      "text/plain": [
       "[26, 11, 53, 72, 61, 92, 17, 77, 37]"
      ]
     },
     "execution_count": 129,
     "metadata": {},
     "output_type": "execute_result"
    }
   ],
   "source": [
    "bad_pages[0]"
   ]
  },
  {
   "cell_type": "code",
   "execution_count": 153,
   "metadata": {},
   "outputs": [],
   "source": [
    "def find_first(num,arr):\n",
    "    num_matches = 0\n",
    "    for item in arr:\n",
    "        matches = [rule for rule in rule_list if (num,item)==rule]\n",
    "        if matches:\n",
    "            num_matches+=1\n",
    "    return True if num_matches== len(arr) else False\n"
   ]
  },
  {
   "cell_type": "code",
   "execution_count": 154,
   "metadata": {},
   "outputs": [],
   "source": [
    "def order(pg,ordered_list):\n",
    "    for first_item in pg:\n",
    "        _page = pg.copy()\n",
    "        _page.remove(first_item)\n",
    "        if find_first(first_item,_page):\n",
    "            ordered_list.append(first_item)\n",
    "            if len(pg)>2:\n",
    "                new_page = pg.copy()\n",
    "                new_page.remove(first_item)\n",
    "                order(new_page,ordered_list)"
   ]
  },
  {
   "cell_type": "code",
   "execution_count": 160,
   "metadata": {},
   "outputs": [
    {
     "data": {
      "text/plain": [
       "4828"
      ]
     },
     "execution_count": 160,
     "metadata": {},
     "output_type": "execute_result"
    }
   ],
   "source": [
    "good_pages = []\n",
    "for page in bad_pages:\n",
    "    ordered_list = []\n",
    "    order(page,ordered_list)\n",
    "    for item in page:\n",
    "        if item not in ordered_list:\n",
    "            ordered_list.append(item)\n",
    "            good_pages.append(ordered_list[math.floor(len(ordered_list)/2)])\n",
    "sum(good_pages)\n"
   ]
  },
  {
   "cell_type": "code",
   "execution_count": 152,
   "metadata": {},
   "outputs": [
    {
     "data": {
      "text/plain": [
       "[92, 37, 26, 17, 61, 72, 77, 53, 11]"
      ]
     },
     "execution_count": 152,
     "metadata": {},
     "output_type": "execute_result"
    }
   ],
   "source": [
    "ordered_list"
   ]
  }
 ],
 "metadata": {
  "kernelspec": {
   "display_name": ".venv",
   "language": "python",
   "name": "python3"
  },
  "language_info": {
   "codemirror_mode": {
    "name": "ipython",
    "version": 3
   },
   "file_extension": ".py",
   "mimetype": "text/x-python",
   "name": "python",
   "nbconvert_exporter": "python",
   "pygments_lexer": "ipython3",
   "version": "3.11.5"
  }
 },
 "nbformat": 4,
 "nbformat_minor": 2
}
